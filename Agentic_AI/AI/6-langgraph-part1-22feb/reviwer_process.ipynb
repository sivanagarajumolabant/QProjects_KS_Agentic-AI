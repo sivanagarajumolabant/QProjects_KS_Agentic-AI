{
 "cells": [
  {
   "cell_type": "code",
   "execution_count": 1,
   "metadata": {},
   "outputs": [],
   "source": [
    "import os\n",
    "from dotenv import load_dotenv\n",
    "load_dotenv()\n",
    "from langchain_groq import ChatGroq\n",
    "\n",
    "os.environ[\"OPENAI_API_KEY\"]=os.getenv(\"OPENAI_API_KEY\")\n",
    "llm=ChatGroq(model=\"qwen-2.5-32b\")"
   ]
  },
  {
   "cell_type": "code",
   "execution_count": 2,
   "metadata": {},
   "outputs": [
    {
     "ename": "ImportError",
     "evalue": "cannot import name 'Op' from 'typing_extensions' (c:\\Users\\Quadrant\\anaconda3\\envs\\ai\\Lib\\site-packages\\typing_extensions.py)",
     "output_type": "error",
     "traceback": [
      "\u001b[1;31m---------------------------------------------------------------------------\u001b[0m",
      "\u001b[1;31mImportError\u001b[0m                               Traceback (most recent call last)",
      "Cell \u001b[1;32mIn[2], line 1\u001b[0m\n\u001b[1;32m----> 1\u001b[0m \u001b[38;5;28;01mfrom\u001b[39;00m\u001b[38;5;250m \u001b[39m\u001b[38;5;21;01mtyping_extensions\u001b[39;00m\u001b[38;5;250m \u001b[39m\u001b[38;5;28;01mimport\u001b[39;00m TypedDict, Op\n\u001b[0;32m      2\u001b[0m \u001b[38;5;28;01mfrom\u001b[39;00m\u001b[38;5;250m \u001b[39m\u001b[38;5;21;01mlanggraph\u001b[39;00m\u001b[38;5;21;01m.\u001b[39;00m\u001b[38;5;21;01mgraph\u001b[39;00m\u001b[38;5;250m \u001b[39m\u001b[38;5;28;01mimport\u001b[39;00m StateGraph, START, END\n\u001b[0;32m      3\u001b[0m \u001b[38;5;28;01mfrom\u001b[39;00m\u001b[38;5;250m \u001b[39m\u001b[38;5;21;01mIPython\u001b[39;00m\u001b[38;5;21;01m.\u001b[39;00m\u001b[38;5;21;01mdisplay\u001b[39;00m\u001b[38;5;250m \u001b[39m\u001b[38;5;28;01mimport\u001b[39;00m Image, display\n",
      "\u001b[1;31mImportError\u001b[0m: cannot import name 'Op' from 'typing_extensions' (c:\\Users\\Quadrant\\anaconda3\\envs\\ai\\Lib\\site-packages\\typing_extensions.py)"
     ]
    }
   ],
   "source": [
    "from typing_extensions import TypedDict, Op\n",
    "from langgraph.graph import StateGraph, START, END\n",
    "from IPython.display import Image, display\n",
    "\n",
    "\n",
    "class State(TypedDict):\n",
    "    input_code:str\n",
    "    coder_code:str\n",
    "    review_code:str\n",
    "    final_code:str"
   ]
  },
  {
   "cell_type": "code",
   "execution_count": null,
   "metadata": {},
   "outputs": [],
   "source": [
    "def coder(state: State):\n",
    "    data = llm.invoke(f\"Please write python code for {state['input_code']} and provide only python code\")\n",
    "    return {\"coder_code\": data.content}\n",
    "\n",
    "def reviewer(state: State):\n",
    "    data = llm.invoke(f\"Please take this snippet code {state['coder_code']} and review it.if any error or warning or modification required please return only 'False' else 'True'\")\n",
    "    return {\"review_code\": data.content}\n",
    "\n",
    "def check_required(state: State):\n",
    "    if state['review_code'] == 'False':\n",
    "        return 'False'\n",
    "    else:\n",
    "        return 'True'\n",
    "\n",
    "def manager_check(state: State):\n",
    "    data = llm.invoke(f\"Please analyze and add doc string for the provided snippet code {state['coder_code']}\")\n",
    "    return {\"final_code\": data.content}"
   ]
  },
  {
   "cell_type": "code",
   "execution_count": null,
   "metadata": {},
   "outputs": [
    {
     "data": {
      "image/png": "[encoded data removed]",
      "text/plain": [
       "<IPython.core.display.Image object>"
      ]
     },
     "metadata": {},
     "output_type": "display_data"
    }
   ],
   "source": [
    "\n",
    "workflow = StateGraph(State)\n",
    "workflow.add_node(\"codercode\", coder)\n",
    "workflow.add_node(\"reviewer_code\", reviewer)\n",
    "workflow.add_node(\"manager_code\", manager_check)\n",
    "\n",
    "\n",
    "workflow.add_edge(START, \"codercode\")\n",
    "workflow.add_edge(\"codercode\", \"reviewer_code\")\n",
    "workflow.add_conditional_edges(\"reviewer_code\", check_required, {'False':'codercode', 'True':END})\n",
    "workflow.add_edge(\"reviewer_code\", \"manager_code\")\n",
    "workflow.add_edge(\"manager_code\", END)\n",
    "\n",
    "chain = workflow.compile()\n",
    "\n",
    "# Show workflow\n",
    "display(Image(chain.get_graph().draw_mermaid_png()))\n",
    "\n"
   ]
  },
  {
   "cell_type": "code",
   "execution_count": null,
   "metadata": {},
   "outputs": [],
   "source": [
    "state = chain.invoke({\"input_code\": \"\"\"@app.get('/')\n",
    "def home():\n",
    "    return {\"Message\": 'Hello World'}\"\"\"})\n",
    "\n"
   ]
  },
  {
   "cell_type": "code",
   "execution_count": null,
   "metadata": {},
   "outputs": [
    {
     "data": {
      "text/plain": [
       "{'input_code': '@app.get(\\'/\\')\\ndef home():\\n    return {\"Message\": \\'Hello World\\'}',\n",
       " 'coder_code': '```python\\nfrom fastapi import FastAPI\\n\\napp = FastAPI()\\n\\n@app.get(\\'/\\')\\ndef home():\\n    return {\"Message\": \\'Hello World\\'}\\n```',\n",
       " 'review_code': 'True',\n",
       " 'final_code': 'Certainly! Below is the provided code snippet with an added docstring that explains what the code does:\\n\\n```python\\nfrom fastapi import FastAPI\\n\\n# Initialize a FastAPI app\\napp = FastAPI()\\n\\n# Define a route for the home endpoint\\n@app.get(\\'/\\')\\ndef home():\\n    \"\"\"\\n    This function handles GET requests to the root URL (\\'/\\').\\n    \\n    Returns:\\n        dict: A dictionary containing a simple greeting message.\\n    \"\"\"\\n    return {\"Message\": \\'Hello World\\'}\\n```\\n\\n### Explanation of the Docstring:\\n- **Function Purpose:** The docstring explains that this function handles GET requests to the root URL (\\'/\\').\\n- **Return Value:** It specifies that the function returns a dictionary containing a simple greeting message which is `{\"Message\": \\'Hello World\\'}`.\\n- **Formatting:** The docstring is formatted according to the common conventions in Python, providing a clear and concise description of the function\\'s behavior.'}"
      ]
     },
     "execution_count": 28,
     "metadata": {},
     "output_type": "execute_result"
    }
   ],
   "source": [
    "state"
   ]
  }
 ],
 "metadata": {
  "kernelspec": {
   "display_name": "ai",
   "language": "python",
   "name": "python3"
  },
  "language_info": {
   "codemirror_mode": {
    "name": "ipython",
    "version": 3
   },
   "file_extension": ".py",
   "mimetype": "text/x-python",
   "name": "python",
   "nbconvert_exporter": "python",
   "pygments_lexer": "ipython3",
   "version": "3.12.0"
  }
 },
 "nbformat": 4,
 "nbformat_minor": 2
}
