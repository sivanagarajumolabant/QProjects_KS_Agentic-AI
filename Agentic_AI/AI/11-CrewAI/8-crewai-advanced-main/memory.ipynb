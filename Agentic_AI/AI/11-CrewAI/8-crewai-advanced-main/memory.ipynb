{
 "cells": [
  {
   "cell_type": "code",
   "execution_count": null,
   "id": "2c76b148",
   "metadata": {},
   "outputs": [],
   "source": [
    "import nest_asyncio\n",
    "\n",
    "nest_asyncio.apply()"
   ]
  },
  {
   "cell_type": "code",
   "execution_count": null,
   "id": "ff2c4875",
   "metadata": {},
   "outputs": [],
   "source": [
    "from crewai import Crew, Agent, Task, Process\n",
    "\n",
    "# Define a simple agent (assuming a default LLM agent)\n",
    "assistant = Agent(role=\"Personal Assistant\",\n",
    "                  goal=\"\"\"You are a personal assistant that can\n",
    "                          help the user with their tasks.\"\"\",\n",
    "                  backstory=\"\"\"You are a personal assistant that\n",
    "                               can help the user with their tasks.\"\"\",\n",
    "                  verbose=True)\n",
    "\n",
    "task = Task(description=\"Handle this task: {user_task}\",\n",
    "            expected_output=\"A clear and concise answer to the question.\",\n",
    "            agent=assistant)\n",
    "\n",
    "# Create a crew with memory enabled\n",
    "crew = Crew(\n",
    "    agents=[assistant], \n",
    "    tasks=[task], \n",
    "    process=Process.sequential,\n",
    "    verbose=True\n",
    ")"
   ]
  },
  {
   "cell_type": "code",
   "execution_count": null,
   "id": "2c6c0251",
   "metadata": {},
   "outputs": [],
   "source": [
    "user_input = \"\"\"My favorite color is #46778F and\n",
    "                my favorite Agent framework is CrewAI.\"\"\"\n",
    "\n",
    "result = crew.kickoff(inputs={\"user_task\": user_input})"
   ]
  },
  {
   "cell_type": "code",
   "execution_count": null,
   "id": "be50b014",
   "metadata": {},
   "outputs": [],
   "source": [
    "user_input = \"What is my favorite color?\"\n",
    "\n",
    "result = crew.kickoff(inputs={\"user_task\": user_input})"
   ]
  },
  {
   "cell_type": "markdown",
   "id": "280489d7",
   "metadata": {},
   "source": [
    "### Short Term Memory"
   ]
  },
  {
   "cell_type": "code",
   "execution_count": null,
   "id": "b8b9c030",
   "metadata": {},
   "outputs": [],
   "source": [
    "from crewai import Crew, Agent, Task, Process\n",
    "\n",
    "# Define a simple agent (assuming a default LLM agent)\n",
    "assistant = Agent(role=\"Personal Assistant\",\n",
    "                  goal=\"\"\"You are a personal assistant that can\n",
    "                          help the user with their tasks.\"\"\",\n",
    "                  backstory=\"\"\"You are a personal assistant that\n",
    "                               can help the user with their tasks.\"\"\",\n",
    "                  verbose=True)\n",
    "\n",
    "task = Task(description=\"Handle this task: {user_task}\",\n",
    "            expected_output=\"A clear and concise answer to the question.\",\n",
    "            agent=assistant)\n",
    "\n",
    "# Create a crew with memory enabled\n",
    "crew = Crew(\n",
    "    agents=[assistant], \n",
    "    tasks=[task], \n",
    "    process=Process.sequential,\n",
    "    memory=True,\n",
    "    verbose=True\n",
    ")"
   ]
  },
  {
   "cell_type": "code",
   "execution_count": null,
   "id": "14690295",
   "metadata": {},
   "outputs": [],
   "source": [
    "user_input = \"\"\"My favorite color is #46778F and\n",
    "                my favorite Agent framework is CrewAI.\"\"\"\n",
    "\n",
    "result = crew.kickoff(inputs={\"user_task\": user_input})"
   ]
  },
  {
   "cell_type": "code",
   "execution_count": null,
   "id": "42ea070d",
   "metadata": {},
   "outputs": [],
   "source": [
    "user_input = \"What is my favorite color?\"\n",
    "\n",
    "result = crew.kickoff(inputs={\"user_task\": user_input})"
   ]
  },
  {
   "cell_type": "code",
   "execution_count": null,
   "id": "d7f933b7",
   "metadata": {},
   "outputs": [],
   "source": [
    "crew._short_term_memory"
   ]
  },
  {
   "cell_type": "code",
   "execution_count": null,
   "id": "bff29ba9",
   "metadata": {},
   "outputs": [],
   "source": [
    "user_input = \"What is my favorite color?\"\n",
    "\n",
    "crew._short_term_memory.storage.search(user_input)"
   ]
  },
  {
   "cell_type": "code",
   "execution_count": null,
   "id": "f78bf2ae",
   "metadata": {},
   "outputs": [],
   "source": [
    "crew._long_term_memory.search(task.description)"
   ]
  },
  {
   "cell_type": "code",
   "execution_count": null,
   "id": "4547217d",
   "metadata": {},
   "outputs": [],
   "source": [
    "user_input = \"What is my favorite color?\"\n",
    "\n",
    "crew._entity_memory.search(user_input)"
   ]
  },
  {
   "cell_type": "markdown",
   "id": "e00f7158",
   "metadata": {},
   "source": [
    "### More on Memory"
   ]
  },
  {
   "cell_type": "code",
   "execution_count": null,
   "id": "baf0c561",
   "metadata": {},
   "outputs": [],
   "source": [
    "from crewai import Crew, Agent, Task, Process\n",
    "from crewai.memory import ShortTermMemory\n",
    "from crewai.memory.storage.rag_storage import RAGStorage\n",
    "\n",
    "shared_db = \"./short_term_memory.db\"\n",
    "\n",
    "storage = RAGStorage(path=shared_db, type=\"short_term\")\n",
    "\n",
    "short_term_memory = ShortTermMemory(storage=storage)\n"
   ]
  },
  {
   "cell_type": "code",
   "execution_count": null,
   "id": "2fcbd472",
   "metadata": {},
   "outputs": [],
   "source": [
    "agent = Agent(role=\"A Personal Assistant\",\n",
    "              goal=\"\"\"You are a personal assistant that can\n",
    "                      help the user with their tasks.\"\"\",\n",
    "              backstory=\"\"\"You are a personal assistant that\n",
    "                           can help the user with their tasks.\"\"\",\n",
    "              verbose=True)\n",
    "\n",
    "task = Task(description=\"Handle this task: {user_task}\",\n",
    "            expected_output=\"A clear and concise answer to the question.\",\n",
    "            agent=agent)\n",
    "\n",
    "\n",
    "crew = Crew(\n",
    "    agents=[agent], \n",
    "    tasks=[task], \n",
    "    process=Process.sequential,\n",
    "    memory=True,\n",
    "    short_term_memory=short_term_memory\n",
    ")\n",
    "crew.kickoff(inputs={\"user_task\": \"My favorite color is #46778F.\"})"
   ]
  },
  {
   "cell_type": "code",
   "execution_count": null,
   "id": "1d335b6f",
   "metadata": {},
   "outputs": [],
   "source": [
    "user_query = \"What is my favorite color?\"\n",
    "\n",
    "crew.kickoff(inputs={\"user_task\": user_query})"
   ]
  },
  {
   "cell_type": "markdown",
   "id": "b8ace0b4",
   "metadata": {},
   "source": [
    "### Long Term Memory"
   ]
  },
  {
   "cell_type": "code",
   "execution_count": null,
   "id": "60619dfb",
   "metadata": {},
   "outputs": [],
   "source": [
    "from crewai import Crew, Agent, Task, Process\n",
    "from crewai.memory import LongTermMemory\n",
    "from crewai.memory.storage.ltm_sqlite_storage import LTMSQLiteStorage"
   ]
  },
  {
   "cell_type": "code",
   "execution_count": null,
   "id": "2f8fd4c3",
   "metadata": {},
   "outputs": [],
   "source": [
    "shared_db = \"./agent_memory.db\"\n",
    "\n",
    "storage = LTMSQLiteStorage(db_path=shared_db)\n",
    "\n",
    "long_memory = LongTermMemory(storage=storage)"
   ]
  },
  {
   "cell_type": "code",
   "execution_count": null,
   "id": "8e35c105",
   "metadata": {},
   "outputs": [],
   "source": [
    "agent1 = Agent(role=\"First Personal Assistant\",\n",
    "              goal=\"\"\"You are a personal assistant that handles\n",
    "                      user's tasks.\"\"\",\n",
    "              backstory=\"\"\"You are a personal assistant that\n",
    "                           can help the user with their tasks.\"\"\",\n",
    "              verbose=True)\n",
    "\n",
    "task1 = Task(description=\"Handle this task: {user_task}\",\n",
    "            expected_output=\"A clear and concise answer to the question.\",\n",
    "            agent=agent1)\n",
    "\n",
    "crew1 = Crew(\n",
    "    agents=[agent1],\n",
    "    tasks=[task1], \n",
    "    process=Process.sequential,\n",
    "    memory=True,\n",
    "    long_term_memory=long_memory\n",
    ")\n",
    "crew1.kickoff(inputs={\"user_task\": \"My favorite color is #46778F.\"})"
   ]
  },
  {
   "cell_type": "code",
   "execution_count": null,
   "id": "9895fe86",
   "metadata": {},
   "outputs": [],
   "source": [
    "import sqlite3\n",
    "\n",
    "conn = sqlite3.connect(\"agent1_memory.db\")\n",
    "cursor = conn.cursor()\n",
    "cursor.execute(\"SELECT name FROM sqlite_master WHERE type='table';\")\n",
    "\n",
    "tables = cursor.fetchall()\n",
    "print(tables)\n",
    "\n",
    "print(\"Tables in the database:\")\n",
    "for table in tables:\n",
    "    print(table[0])"
   ]
  },
  {
   "cell_type": "code",
   "execution_count": null,
   "id": "7b46d184",
   "metadata": {},
   "outputs": [],
   "source": [
    "task2 = Task(description=\"Handle this task: {user_task}\",\n",
    "            expected_output=\"A clear and concise answer to the question.\",\n",
    "            agent=agent1)\n",
    "\n",
    "crew2 = Crew(\n",
    "    agents=[agent1], \n",
    "    tasks=[task2], \n",
    "    process=Process.sequential,\n",
    "    memory=True,\n",
    "    long_term_memory=long_memory\n",
    ")\n",
    "\n",
    "crew2.kickoff(inputs={\"user_task\": \"What is my favorite color?\"})\n"
   ]
  },
  {
   "cell_type": "markdown",
   "id": "d95c87f9",
   "metadata": {},
   "source": [
    "### Entity Memory"
   ]
  },
  {
   "cell_type": "code",
   "execution_count": null,
   "id": "44931fbe",
   "metadata": {},
   "outputs": [],
   "source": [
    "from crewai import Crew, Agent, Task, Process\n",
    "from crewai.memory import EntityMemory\n",
    "from crewai.memory.storage.rag_storage import RAGStorage\n",
    "\n",
    "shared_db = \"./agent1_entity_memory.db\"\n",
    "\n",
    "storage = RAGStorage(path=shared_db, type=\"short_term\")\n",
    "\n",
    "entity_memory = EntityMemory(storage=storage)\n"
   ]
  },
  {
   "cell_type": "code",
   "execution_count": null,
   "id": "59b5e1d7",
   "metadata": {},
   "outputs": [],
   "source": [
    "remembering_agent = Agent(role=\"Remembering Agent\",\n",
    "                          goal=\"\"\"You are a assistant that can\n",
    "                                  remember the user's information.\"\"\",\n",
    "                          backstory=\"\"\"You are a assistant that can remember\n",
    "                                       the user's information.\"\"\",\n",
    "                          verbose=True)\n",
    "            \n",
    "task = Task(description=\"Handle this task: {user_task}\",\n",
    "            expected_output=\"A clear and concise answer to the question.\",\n",
    "            agent=remembering_agent)\n",
    "\n",
    "crew = Crew(\n",
    "    agents=[remembering_agent], \n",
    "    tasks=[task], \n",
    "    process=Process.sequential,\n",
    "    memory=True,\n",
    "    entity_memory=entity_memory\n",
    ")\n",
    "\n",
    "crew.kickoff(inputs={\"user_task\": \"My favorite color is #46778F.\"})"
   ]
  },
  {
   "cell_type": "code",
   "execution_count": null,
   "id": "4aa235fd",
   "metadata": {},
   "outputs": [],
   "source": [
    "crew._entity_memory.search(\"What is my favorite color?\")"
   ]
  },
  {
   "cell_type": "markdown",
   "id": "5759eb66",
   "metadata": {},
   "source": [
    "### Resetting memory"
   ]
  },
  {
   "cell_type": "code",
   "execution_count": null,
   "id": "5d19d55d",
   "metadata": {},
   "outputs": [],
   "source": [
    "crew.reset_memories(command_type = 'all') "
   ]
  },
  {
   "cell_type": "code",
   "execution_count": null,
   "id": "2920c376",
   "metadata": {},
   "outputs": [],
   "source": [
    "crew.reset_memories(command_type='short')"
   ]
  },
  {
   "cell_type": "code",
   "execution_count": null,
   "id": "b53a26fb",
   "metadata": {},
   "outputs": [],
   "source": [
    "crew.reset_memories(command_type='long')"
   ]
  },
  {
   "cell_type": "code",
   "execution_count": null,
   "id": "47f844d4",
   "metadata": {},
   "outputs": [],
   "source": [
    "crew.reset_memories(command_type='entities')"
   ]
  }
 ],
 "metadata": {
  "kernelspec": {
   "display_name": "trippy",
   "language": "python",
   "name": "python3"
  },
  "language_info": {
   "codemirror_mode": {
    "name": "ipython",
    "version": 3
   },
   "file_extension": ".py",
   "mimetype": "text/x-python",
   "name": "python",
   "nbconvert_exporter": "python",
   "pygments_lexer": "ipython3",
   "version": "3.12.0"
  }
 },
 "nbformat": 4,
 "nbformat_minor": 5
}
