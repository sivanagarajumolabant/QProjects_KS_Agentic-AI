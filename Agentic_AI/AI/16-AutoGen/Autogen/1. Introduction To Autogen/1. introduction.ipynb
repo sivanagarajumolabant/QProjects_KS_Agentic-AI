{
 "cells": [
  {
   "cell_type": "markdown",
   "id": "a3d0b267",
   "metadata": {},
   "source": [
    "# Autogen Installation"
   ]
  },
  {
   "cell_type": "code",
   "execution_count": null,
   "id": "2daa6db6",
   "metadata": {},
   "outputs": [],
   "source": [
    "1. Create a virtual env\n",
    "2. Activate it\n",
    "3. Create Requirements.txt\n",
    "4. install them\n"
   ]
  },
  {
   "cell_type": "markdown",
   "id": "219b3c84",
   "metadata": {},
   "source": [
    "# LLM for our Agents\n",
    "\n",
    "1. ChatGPT\n",
    "2. Ollama"
   ]
  },
  {
   "cell_type": "code",
   "execution_count": 4,
   "id": "6ba3adea",
   "metadata": {},
   "outputs": [],
   "source": [
    "from autogen_core.models import UserMessage\n",
    "from autogen_ext.models.ollama import OllamaChatCompletionClient\n",
    "import asyncio\n",
    "\n",
    "ollama_model_client = OllamaChatCompletionClient(model='llama3.2')"
   ]
  },
  {
   "cell_type": "code",
   "execution_count": 6,
   "id": "29248e93",
   "metadata": {},
   "outputs": [
    {
     "data": {
      "text/plain": [
       "<coroutine object main at 0x109688c80>"
      ]
     },
     "execution_count": 6,
     "metadata": {},
     "output_type": "execute_result"
    }
   ],
   "source": [
    "async def main():\n",
    "    response = await ollama_model_client.create(UserMessage(content='Hello, how are you?',source='user'))\n",
    "    print(response)\n",
    "    await ollama_model_client.close()\n",
    "\n",
    "main()"
   ]
  },
  {
   "cell_type": "markdown",
   "id": "b15ffff3",
   "metadata": {},
   "source": [
    "# First Autogen Agent"
   ]
  },
  {
   "cell_type": "code",
   "execution_count": 3,
   "id": "3c97cadb",
   "metadata": {},
   "outputs": [],
   "source": [
    "from autogen_agentchat.agents import AssistantAgent\n",
    "from autogen_ext.models.openai import OpenAIChatCompletionClient\n",
    "from dotenv import load_dotenv\n",
    "import os\n",
    "load_dotenv()\n",
    "api_key = os.getenv('OPENAI_API_KEY')\n"
   ]
  },
  {
   "cell_type": "code",
   "execution_count": 4,
   "id": "c7fe94dc",
   "metadata": {},
   "outputs": [],
   "source": [
    "model_client = OpenAIChatCompletionClient(model='gpt-4o',api_key=api_key)"
   ]
  },
  {
   "cell_type": "markdown",
   "id": "67f31934",
   "metadata": {},
   "source": [
    "# Creating our First Single Agent"
   ]
  },
  {
   "cell_type": "code",
   "execution_count": 5,
   "id": "65f602d1",
   "metadata": {},
   "outputs": [],
   "source": [
    "my_first_agent = AssistantAgent(name = 'My_First_Agent',model_client=model_client,system_message='You are a helpful assistant, give reply in JSON')"
   ]
  },
  {
   "cell_type": "code",
   "execution_count": 6,
   "id": "2261b7d0",
   "metadata": {},
   "outputs": [
    {
     "name": "stdout",
     "output_type": "stream",
     "text": [
      "messages=[TextMessage(source='user', models_usage=None, metadata={}, content='Tell me a joke', type='TextMessage'), TextMessage(source='My_First_Agent', models_usage=RequestUsage(prompt_tokens=26, completion_tokens=33), metadata={}, content='```json\\n{\\n  \"joke\": \"Why do we never tell secrets on a farm? Because the potatoes have eyes and the corn has ears!\"\\n}\\n```', type='TextMessage')] stop_reason=None\n"
     ]
    }
   ],
   "source": [
    "result = await my_first_agent.run(task='Tell me a joke')\n",
    "print(result)"
   ]
  },
  {
   "cell_type": "markdown",
   "id": "7429f894",
   "metadata": {},
   "source": [
    "messages=[TextMessage(source='user', models_usage=None, metadata={}, content='Tell me a joke', type='TextMessage'), TextMessage(source='My_First_Agent', models_usage=RequestUsage(prompt_tokens=40, completion_tokens=14), metadata={}, content=\"Why don't skeletons fight each other?\\n\\nThey don't have the guts.\", type='TextMessage')] stop_reason=None"
   ]
  },
  {
   "cell_type": "code",
   "execution_count": 16,
   "id": "2a473d62",
   "metadata": {},
   "outputs": [
    {
     "data": {
      "text/plain": [
       "\"Why don't skeletons fight each other?\\n\\nThey don't have the guts.\""
      ]
     },
     "execution_count": 16,
     "metadata": {},
     "output_type": "execute_result"
    }
   ],
   "source": [
    "result.messages[-1].content"
   ]
  },
  {
   "cell_type": "code",
   "execution_count": 19,
   "id": "a3126d33",
   "metadata": {},
   "outputs": [
    {
     "name": "stdout",
     "output_type": "stream",
     "text": [
      "```json\n",
      "{\n",
      "  \"result\": 110\n",
      "}\n",
      "```\n"
     ]
    }
   ],
   "source": [
    "result = await my_first_agent.run(task='What is 5+105')\n",
    "print(result.messages[-1].content)"
   ]
  }
 ],
 "metadata": {
  "kernelspec": {
   "display_name": "autogen-lc",
   "language": "python",
   "name": "python3"
  },
  "language_info": {
   "codemirror_mode": {
    "name": "ipython",
    "version": 3
   },
   "file_extension": ".py",
   "mimetype": "text/x-python",
   "name": "python",
   "nbconvert_exporter": "python",
   "pygments_lexer": "ipython3",
   "version": "3.12.9"
  }
 },
 "nbformat": 4,
 "nbformat_minor": 5
}
