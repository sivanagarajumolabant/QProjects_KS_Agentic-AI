{
 "cells": [
  {
   "cell_type": "markdown",
   "id": "5d8b7bb5",
   "metadata": {},
   "source": [
    "# Agents in Team"
   ]
  },
  {
   "cell_type": "markdown",
   "id": "f5d02972",
   "metadata": {},
   "source": [
    "### A single Agent can only say create a short story for us.\n",
    "### but with a team whre many agents work together towards a common goal they can help us in writing or even helping to review, edit etc."
   ]
  },
  {
   "cell_type": "code",
   "execution_count": 1,
   "id": "2ecc8f72",
   "metadata": {},
   "outputs": [],
   "source": [
    "import asyncio\n",
    "from autogen_ext.models.openai import OpenAIChatCompletionClient\n",
    "from dotenv import load_dotenv\n",
    "import os\n",
    "\n",
    "load_dotenv()\n",
    "api_key = os.getenv('OPENAI_API_KEY')\n",
    "model_client = OpenAIChatCompletionClient(model='gpt-4o', api_key=api_key)"
   ]
  },
  {
   "cell_type": "code",
   "execution_count": 3,
   "id": "6361f5f0",
   "metadata": {},
   "outputs": [],
   "source": [
    "model_client_2 = OpenAIChatCompletionClient(model='gpt-4',api_key=api_key)"
   ]
  },
  {
   "cell_type": "code",
   "execution_count": null,
   "id": "4752e8bc",
   "metadata": {},
   "outputs": [],
   "source": [
    "from autogen_agentchat.agents import AssistantAgent\n",
    "\n",
    "dsa_solver = AssistantAgent(\n",
    "    name = 'Complex_DSA_Solver',\n",
    "    model_client=model_client,\n",
    "    description='A DSA solver',\n",
    "    system_message=\"You give code in python to solve complex DSA problems. Give under 100 words\"\n",
    ")\n",
    "\n",
    "code_reviewer = AssistantAgent(\n",
    "    name = 'CODE_REVEIWER',\n",
    "    model_client=model_client_2,\n",
    "    description='A Code Reviewer',\n",
    "    system_message=\"You review the code given by the complex_dsa_solver and make sure it is optimized.Give under 10 words\"\n",
    ")\n",
    "\n",
    "code_editor = AssistantAgent(\n",
    "    name = 'CODE_EDITOR',\n",
    "    model_client=model_client,\n",
    "    description='A Code editor',\n",
    "    system_message=\"You make the code easy to understand and add comments wherever required.Give under 10 words\"\n",
    ")\n"
   ]
  },
  {
   "cell_type": "code",
   "execution_count": 12,
   "id": "e80d2b11",
   "metadata": {},
   "outputs": [
    {
     "ename": "ValueError",
     "evalue": "The participant names must be unique.",
     "output_type": "error",
     "traceback": [
      "\u001b[31m---------------------------------------------------------------------------\u001b[39m",
      "\u001b[31mValueError\u001b[39m                                Traceback (most recent call last)",
      "\u001b[36mCell\u001b[39m\u001b[36m \u001b[39m\u001b[32mIn[12]\u001b[39m\u001b[32m, line 4\u001b[39m\n\u001b[32m      1\u001b[39m \u001b[38;5;28;01mfrom\u001b[39;00m\u001b[38;5;250m \u001b[39m\u001b[34;01mautogen_agentchat\u001b[39;00m\u001b[34;01m.\u001b[39;00m\u001b[34;01mteams\u001b[39;00m\u001b[38;5;250m \u001b[39m\u001b[38;5;28;01mimport\u001b[39;00m RoundRobinGroupChat\n\u001b[32m      2\u001b[39m \u001b[38;5;28;01mfrom\u001b[39;00m\u001b[38;5;250m \u001b[39m\u001b[34;01mautogen_agentchat\u001b[39;00m\u001b[34;01m.\u001b[39;00m\u001b[34;01mmessages\u001b[39;00m\u001b[38;5;250m \u001b[39m\u001b[38;5;28;01mimport\u001b[39;00m TextMessage\n\u001b[32m----> \u001b[39m\u001b[32m4\u001b[39m team = \u001b[43mRoundRobinGroupChat\u001b[49m\u001b[43m(\u001b[49m\n\u001b[32m      5\u001b[39m \u001b[43m    \u001b[49m\u001b[43mparticipants\u001b[49m\u001b[43m=\u001b[49m\u001b[43m[\u001b[49m\u001b[43mdsa_solver\u001b[49m\u001b[43m,\u001b[49m\u001b[43mdsa_solver\u001b[49m\u001b[43m,\u001b[49m\u001b[43mcode_editor\u001b[49m\u001b[43m]\u001b[49m\u001b[43m,\u001b[49m\n\u001b[32m      6\u001b[39m \u001b[43m    \u001b[49m\u001b[43mmax_turns\u001b[49m\u001b[43m=\u001b[49m\u001b[32;43m3\u001b[39;49m\u001b[43m \u001b[49m\u001b[38;5;66;43;03m# -----># maximum number of Message before it stops between the agents.\u001b[39;49;00m\n\u001b[32m      7\u001b[39m \u001b[43m)\u001b[49m\n\u001b[32m      9\u001b[39m \u001b[38;5;28;01masync\u001b[39;00m \u001b[38;5;28;01mdef\u001b[39;00m\u001b[38;5;250m \u001b[39m\u001b[34mtest_team\u001b[39m():\n\u001b[32m     10\u001b[39m     task = TextMessage(content=\u001b[33m'\u001b[39m\u001b[33mWrite a simple Hello world code ?\u001b[39m\u001b[33m'\u001b[39m,source=\u001b[33m'\u001b[39m\u001b[33mUser\u001b[39m\u001b[33m'\u001b[39m)\n",
      "\u001b[36mFile \u001b[39m\u001b[32m~/Live-Class/Agentic-1.0/Autogen/autogen-lc/lib/python3.12/site-packages/autogen_agentchat/teams/_group_chat/_round_robin_group_chat.py:179\u001b[39m, in \u001b[36mRoundRobinGroupChat.__init__\u001b[39m\u001b[34m(self, participants, termination_condition, max_turns, runtime, custom_message_types, emit_team_events)\u001b[39m\n\u001b[32m    170\u001b[39m \u001b[38;5;28;01mdef\u001b[39;00m\u001b[38;5;250m \u001b[39m\u001b[34m__init__\u001b[39m(\n\u001b[32m    171\u001b[39m     \u001b[38;5;28mself\u001b[39m,\n\u001b[32m    172\u001b[39m     participants: List[ChatAgent],\n\u001b[32m   (...)\u001b[39m\u001b[32m    177\u001b[39m     emit_team_events: \u001b[38;5;28mbool\u001b[39m = \u001b[38;5;28;01mFalse\u001b[39;00m,\n\u001b[32m    178\u001b[39m ) -> \u001b[38;5;28;01mNone\u001b[39;00m:\n\u001b[32m--> \u001b[39m\u001b[32m179\u001b[39m     \u001b[38;5;28;43msuper\u001b[39;49m\u001b[43m(\u001b[49m\u001b[43m)\u001b[49m\u001b[43m.\u001b[49m\u001b[34;43m__init__\u001b[39;49m\u001b[43m(\u001b[49m\n\u001b[32m    180\u001b[39m \u001b[43m        \u001b[49m\u001b[43mparticipants\u001b[49m\u001b[43m,\u001b[49m\n\u001b[32m    181\u001b[39m \u001b[43m        \u001b[49m\u001b[43mgroup_chat_manager_name\u001b[49m\u001b[43m=\u001b[49m\u001b[33;43m\"\u001b[39;49m\u001b[33;43mRoundRobinGroupChatManager\u001b[39;49m\u001b[33;43m\"\u001b[39;49m\u001b[43m,\u001b[49m\n\u001b[32m    182\u001b[39m \u001b[43m        \u001b[49m\u001b[43mgroup_chat_manager_class\u001b[49m\u001b[43m=\u001b[49m\u001b[43mRoundRobinGroupChatManager\u001b[49m\u001b[43m,\u001b[49m\n\u001b[32m    183\u001b[39m \u001b[43m        \u001b[49m\u001b[43mtermination_condition\u001b[49m\u001b[43m=\u001b[49m\u001b[43mtermination_condition\u001b[49m\u001b[43m,\u001b[49m\n\u001b[32m    184\u001b[39m \u001b[43m        \u001b[49m\u001b[43mmax_turns\u001b[49m\u001b[43m=\u001b[49m\u001b[43mmax_turns\u001b[49m\u001b[43m,\u001b[49m\n\u001b[32m    185\u001b[39m \u001b[43m        \u001b[49m\u001b[43mruntime\u001b[49m\u001b[43m=\u001b[49m\u001b[43mruntime\u001b[49m\u001b[43m,\u001b[49m\n\u001b[32m    186\u001b[39m \u001b[43m        \u001b[49m\u001b[43mcustom_message_types\u001b[49m\u001b[43m=\u001b[49m\u001b[43mcustom_message_types\u001b[49m\u001b[43m,\u001b[49m\n\u001b[32m    187\u001b[39m \u001b[43m        \u001b[49m\u001b[43memit_team_events\u001b[49m\u001b[43m=\u001b[49m\u001b[43memit_team_events\u001b[49m\u001b[43m,\u001b[49m\n\u001b[32m    188\u001b[39m \u001b[43m    \u001b[49m\u001b[43m)\u001b[49m\n",
      "\u001b[36mFile \u001b[39m\u001b[32m~/Live-Class/Agentic-1.0/Autogen/autogen-lc/lib/python3.12/site-packages/autogen_agentchat/teams/_group_chat/_base_group_chat.py:63\u001b[39m, in \u001b[36mBaseGroupChat.__init__\u001b[39m\u001b[34m(self, participants, group_chat_manager_name, group_chat_manager_class, termination_condition, max_turns, runtime, custom_message_types, emit_team_events)\u001b[39m\n\u001b[32m     61\u001b[39m     \u001b[38;5;28;01mraise\u001b[39;00m \u001b[38;5;167;01mValueError\u001b[39;00m(\u001b[33m\"\u001b[39m\u001b[33mAt least one participant is required.\u001b[39m\u001b[33m\"\u001b[39m)\n\u001b[32m     62\u001b[39m \u001b[38;5;28;01mif\u001b[39;00m \u001b[38;5;28mlen\u001b[39m(participants) != \u001b[38;5;28mlen\u001b[39m(\u001b[38;5;28mset\u001b[39m(participant.name \u001b[38;5;28;01mfor\u001b[39;00m participant \u001b[38;5;129;01min\u001b[39;00m participants)):\n\u001b[32m---> \u001b[39m\u001b[32m63\u001b[39m     \u001b[38;5;28;01mraise\u001b[39;00m \u001b[38;5;167;01mValueError\u001b[39;00m(\u001b[33m\"\u001b[39m\u001b[33mThe participant names must be unique.\u001b[39m\u001b[33m\"\u001b[39m)\n\u001b[32m     64\u001b[39m \u001b[38;5;28mself\u001b[39m._participants = participants\n\u001b[32m     65\u001b[39m \u001b[38;5;28mself\u001b[39m._base_group_chat_manager_class = group_chat_manager_class\n",
      "\u001b[31mValueError\u001b[39m: The participant names must be unique."
     ]
    }
   ],
   "source": [
    "from autogen_agentchat.teams import RoundRobinGroupChat\n",
    "from autogen_agentchat.messages import TextMessage\n",
    "\n",
    "team = RoundRobinGroupChat(\n",
    "    participants=[dsa_solver,dsa_solver,code_editor],\n",
    "    max_turns=3 # -----># maximum number of Message before it stops between the agents.\n",
    ")\n",
    "\n",
    "async def test_team():\n",
    "    task = TextMessage(content='Write a simple Hello world code ?',source='User')\n",
    "    \n",
    "    result = await team.run(task=task)\n",
    "\n",
    "    for each_agent_message in result.messages:\n",
    "        print(f'{each_agent_message.source} ' )\n",
    "        print('\\n \\n')\n",
    "\n",
    "\n",
    "await test_team()"
   ]
  },
  {
   "cell_type": "code",
   "execution_count": null,
   "id": "4dc374eb",
   "metadata": {},
   "outputs": [],
   "source": [
    "1. User Proxy \n",
    "\n",
    "2. Termination Condition"
   ]
  },
  {
   "cell_type": "code",
   "execution_count": null,
   "id": "d2d7e864",
   "metadata": {},
   "outputs": [],
   "source": []
  }
 ],
 "metadata": {
  "kernelspec": {
   "display_name": "autogen-lc",
   "language": "python",
   "name": "python3"
  },
  "language_info": {
   "codemirror_mode": {
    "name": "ipython",
    "version": 3
   },
   "file_extension": ".py",
   "mimetype": "text/x-python",
   "name": "python",
   "nbconvert_exporter": "python",
   "pygments_lexer": "ipython3",
   "version": "3.12.9"
  }
 },
 "nbformat": 4,
 "nbformat_minor": 5
}
