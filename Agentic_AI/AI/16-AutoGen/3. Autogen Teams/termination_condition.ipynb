{
 "cells": [
  {
   "cell_type": "code",
   "execution_count": 3,
   "id": "852a4f27",
   "metadata": {},
   "outputs": [],
   "source": [
    "import asyncio\n",
    "from autogen_ext.models.openai import OpenAIChatCompletionClient\n",
    "from dotenv import load_dotenv\n",
    "import os\n",
    "\n",
    "load_dotenv()\n",
    "api_key = os.getenv('OPENAI_API_KEY')\n",
    "model_client = OpenAIChatCompletionClient(model='gpt-4o', api_key=api_key)"
   ]
  },
  {
   "cell_type": "code",
   "execution_count": null,
   "id": "c6344956",
   "metadata": {},
   "outputs": [],
   "source": [
    "from autogen_agentchat.agents import AssistantAgent\n",
    "\n",
    "dsa_solver = AssistantAgent(\n",
    "    name = 'Complex_DSA_Solver',\n",
    "    model_client=model_client,\n",
    "    description='A DSA solver',\n",
    "    system_message=\"You give code in python to solve complex DSA problems. Give under 100 words\"\n",
    ")\n",
    "\n",
    "code_reviewer = AssistantAgent(\n",
    "    name = 'CODE_REVEIWER',\n",
    "    model_client=model_client,\n",
    "    description='A Code Reviewer',\n",
    "    system_message=\"You review the code given by the complex_dsa_solver and make sure it is optimized.Give under 10 words\"\n",
    ")\n",
    "\n",
    "code_editor = AssistantAgent(\n",
    "    name = 'CODE_EDITOR',\n",
    "    model_client=model_client,\n",
    "    description='A Code editor',\n",
    "    system_message=\"You make the code easy to understand and add comments wherever required.Give under 10 words\" \\\n",
    "    \"If the code and everything is fine, please say 'TERMINATE\"\n",
    ")\n"
   ]
  },
  {
   "cell_type": "code",
   "execution_count": 18,
   "id": "b2c47099",
   "metadata": {},
   "outputs": [],
   "source": [
    "from autogen_agentchat.teams import RoundRobinGroupChat\n",
    "from autogen_agentchat.messages import TextMessage\n",
    "from autogen_agentchat.conditions import TextMentionTermination,MaxMessageTermination,TimeoutTermination\n",
    "\n",
    "termination_condition = TextMentionTermination(\"TERMINATE\") | MaxMessageTermination(10)\n",
    "\n",
    "team = RoundRobinGroupChat(\n",
    "    participants=[dsa_solver,code_reviewer,code_editor],\n",
    "    # max_turns=15 # -----># maximum number of Message before it stops between the agents.\n",
    "    termination_condition=termination_condition\n",
    ")"
   ]
  },
  {
   "cell_type": "code",
   "execution_count": 12,
   "id": "7ca034e3",
   "metadata": {},
   "outputs": [
    {
     "name": "stdout",
     "output_type": "stream",
     "text": [
      "---------- TextMessage (user) ----------\n",
      "Write a simple Hello world code.\n",
      "---------- TextMessage (Complex_DSA_Solver) ----------\n",
      "```python\n",
      "print(\"Hello, world!\")\n",
      "```\n",
      "---------- TextMessage (CODE_REVEIWER) ----------\n",
      "TERMINATE\n",
      "---------- TextMessage (CODE_EDITOR) ----------\n",
      "TERMINATE\n",
      "---------- TextMessage (Complex_DSA_Solver) ----------\n",
      "If you have any more requests or need help with code, feel free to ask!\n",
      "---------- TextMessage (CODE_REVEIWER) ----------\n",
      "Sure, let me know if you need anything else!\n",
      "---------- TextMessage (CODE_EDITOR) ----------\n",
      "TERMINATE\n",
      "---------- TextMessage (Complex_DSA_Solver) ----------\n",
      "If you have further questions or need assistance with anything else, just let me know!\n",
      "---------- TextMessage (CODE_REVEIWER) ----------\n",
      "Sure, feel free to ask anytime!\n"
     ]
    },
    {
     "data": {
      "text/plain": [
       "TaskResult(messages=[TextMessage(source='user', models_usage=None, metadata={}, content='Write a simple Hello world code.', type='TextMessage'), TextMessage(source='Complex_DSA_Solver', models_usage=RequestUsage(prompt_tokens=36, completion_tokens=10), metadata={}, content='```python\\nprint(\"Hello, world!\")\\n```', type='TextMessage'), TextMessage(source='CODE_REVEIWER', models_usage=RequestUsage(prompt_tokens=75, completion_tokens=3), metadata={}, content='TERMINATE', type='TextMessage'), TextMessage(source='CODE_EDITOR', models_usage=RequestUsage(prompt_tokens=84, completion_tokens=3), metadata={}, content='TERMINATE', type='TextMessage'), TextMessage(source='Complex_DSA_Solver', models_usage=RequestUsage(prompt_tokens=73, completion_tokens=17), metadata={}, content='If you have any more requests or need help with code, feel free to ask!', type='TextMessage'), TextMessage(source='CODE_REVEIWER', models_usage=RequestUsage(prompt_tokens=119, completion_tokens=11), metadata={}, content='Sure, let me know if you need anything else!', type='TextMessage'), TextMessage(source='CODE_EDITOR', models_usage=RequestUsage(prompt_tokens=139, completion_tokens=3), metadata={}, content='TERMINATE', type='TextMessage'), TextMessage(source='Complex_DSA_Solver', models_usage=RequestUsage(prompt_tokens=125, completion_tokens=17), metadata={}, content='If you have further questions or need assistance with anything else, just let me know!', type='TextMessage'), TextMessage(source='CODE_REVEIWER', models_usage=RequestUsage(prompt_tokens=171, completion_tokens=8), metadata={}, content='Sure, feel free to ask anytime!', type='TextMessage')], stop_reason='Timeout of 10 seconds reached')"
      ]
     },
     "execution_count": 12,
     "metadata": {},
     "output_type": "execute_result"
    }
   ],
   "source": [
    "from autogen_agentchat.ui import Console\n",
    "await team.reset()  # Reset the team for a new task.\n",
    "await Console(team.run_stream(task=\"Write a simple Hello world code.\"))  # Stream the messages to the console.\n"
   ]
  },
  {
   "cell_type": "code",
   "execution_count": 15,
   "id": "71f1d408",
   "metadata": {},
   "outputs": [
    {
     "name": "stdout",
     "output_type": "stream",
     "text": [
      "---------- TextMessage (user) ----------\n",
      "Write a simple Hello world code.\n",
      "---------- TextMessage (Complex_DSA_Solver) ----------\n",
      "Certainly! Here's a simple \"Hello, World!\" program in Python:\n",
      "\n",
      "```python\n",
      "print(\"Hello, World!\")\n",
      "```\n",
      "\n",
      "This code uses the `print()` function to display the text \"Hello, World!\" to the console.\n",
      "---------- TextMessage (CODE_REVEIWER) ----------\n",
      "TERMINATE\n",
      "---------- TextMessage (CODE_EDITOR) ----------\n",
      "TERMINATE\n",
      "---------- TextMessage (Complex_DSA_Solver) ----------\n",
      "TERMINATE\n",
      "---------- TextMessage (CODE_REVEIWER) ----------\n",
      "TERMINATE\n",
      "---------- TextMessage (CODE_EDITOR) ----------\n",
      "TERMINATE\n",
      "---------- TextMessage (Complex_DSA_Solver) ----------\n",
      "TERMINATE\n",
      "---------- TextMessage (CODE_REVEIWER) ----------\n",
      "TERMINATE\n",
      "---------- TextMessage (CODE_EDITOR) ----------\n",
      "TERMINATE\n",
      "---------- TextMessage (Complex_DSA_Solver) ----------\n",
      "TERMINATE\n",
      "---------- TextMessage (CODE_REVEIWER) ----------\n",
      "TERMINATE\n",
      "---------- TextMessage (CODE_EDITOR) ----------\n",
      "TERMINATE\n",
      "---------- TextMessage (Complex_DSA_Solver) ----------\n",
      "TERMINATE\n",
      "---------- TextMessage (CODE_REVEIWER) ----------\n",
      "TERMINATE\n",
      "---------- TextMessage (CODE_EDITOR) ----------\n",
      "TERMINATE\n",
      "---------- TextMessage (Complex_DSA_Solver) ----------\n",
      "TERMINATE\n"
     ]
    },
    {
     "data": {
      "text/plain": [
       "TaskResult(messages=[TextMessage(source='user', models_usage=None, metadata={}, content='Write a simple Hello world code.', type='TextMessage'), TextMessage(source='Complex_DSA_Solver', models_usage=RequestUsage(prompt_tokens=36, completion_tokens=46), metadata={}, content='Certainly! Here\\'s a simple \"Hello, World!\" program in Python:\\n\\n```python\\nprint(\"Hello, World!\")\\n```\\n\\nThis code uses the `print()` function to display the text \"Hello, World!\" to the console.', type='TextMessage'), TextMessage(source='CODE_REVEIWER', models_usage=RequestUsage(prompt_tokens=111, completion_tokens=3), metadata={}, content='TERMINATE', type='TextMessage'), TextMessage(source='CODE_EDITOR', models_usage=RequestUsage(prompt_tokens=120, completion_tokens=3), metadata={}, content='TERMINATE', type='TextMessage'), TextMessage(source='Complex_DSA_Solver', models_usage=RequestUsage(prompt_tokens=109, completion_tokens=3), metadata={}, content='TERMINATE', type='TextMessage'), TextMessage(source='CODE_REVEIWER', models_usage=RequestUsage(prompt_tokens=141, completion_tokens=3), metadata={}, content='TERMINATE', type='TextMessage'), TextMessage(source='CODE_EDITOR', models_usage=RequestUsage(prompt_tokens=153, completion_tokens=3), metadata={}, content='TERMINATE', type='TextMessage'), TextMessage(source='Complex_DSA_Solver', models_usage=RequestUsage(prompt_tokens=139, completion_tokens=3), metadata={}, content='TERMINATE', type='TextMessage'), TextMessage(source='CODE_REVEIWER', models_usage=RequestUsage(prompt_tokens=171, completion_tokens=3), metadata={}, content='TERMINATE', type='TextMessage'), TextMessage(source='CODE_EDITOR', models_usage=RequestUsage(prompt_tokens=186, completion_tokens=3), metadata={}, content='TERMINATE', type='TextMessage'), TextMessage(source='Complex_DSA_Solver', models_usage=RequestUsage(prompt_tokens=169, completion_tokens=3), metadata={}, content='TERMINATE', type='TextMessage'), TextMessage(source='CODE_REVEIWER', models_usage=RequestUsage(prompt_tokens=201, completion_tokens=3), metadata={}, content='TERMINATE', type='TextMessage'), TextMessage(source='CODE_EDITOR', models_usage=RequestUsage(prompt_tokens=219, completion_tokens=3), metadata={}, content='TERMINATE', type='TextMessage'), TextMessage(source='Complex_DSA_Solver', models_usage=RequestUsage(prompt_tokens=199, completion_tokens=3), metadata={}, content='TERMINATE', type='TextMessage'), TextMessage(source='CODE_REVEIWER', models_usage=RequestUsage(prompt_tokens=231, completion_tokens=3), metadata={}, content='TERMINATE', type='TextMessage'), TextMessage(source='CODE_EDITOR', models_usage=RequestUsage(prompt_tokens=252, completion_tokens=3), metadata={}, content='TERMINATE', type='TextMessage'), TextMessage(source='Complex_DSA_Solver', models_usage=RequestUsage(prompt_tokens=229, completion_tokens=3), metadata={}, content='TERMINATE', type='TextMessage')], stop_reason='Timeout of 10 seconds reached')"
      ]
     },
     "execution_count": 15,
     "metadata": {},
     "output_type": "execute_result"
    }
   ],
   "source": [
    "from autogen_agentchat.ui import Console\n",
    "await team.reset()  # Reset the team for a new task.\n",
    "await Console(team.run_stream(task=\"Write a simple Hello world code.\"))  # Stream the messages to the console.\n"
   ]
  },
  {
   "cell_type": "code",
   "execution_count": 19,
   "id": "f57a6e56",
   "metadata": {},
   "outputs": [
    {
     "name": "stdout",
     "output_type": "stream",
     "text": [
      "---------- TextMessage (user) ----------\n",
      "Give me a code on how to reverse a linked list?\n",
      "---------- TextMessage (Complex_DSA_Solver) ----------\n",
      "Certainly! Here's a Python code to reverse a singly linked list:\n",
      "\n",
      "```python\n",
      "class Node:\n",
      "    def __init__(self, value):\n",
      "        self.value = value\n",
      "        self.next = None\n",
      "\n",
      "class LinkedList:\n",
      "    def __init__(self):\n",
      "        self.head = None\n",
      "\n",
      "    def append(self, value):\n",
      "        new_node = Node(value)\n",
      "        if not self.head:\n",
      "            self.head = new_node\n",
      "            return\n",
      "        last = self.head\n",
      "        while last.next:\n",
      "            last = last.next\n",
      "        last.next = new_node\n",
      "\n",
      "    def reverse(self):\n",
      "        prev = None\n",
      "        current = self.head\n",
      "        while current:\n",
      "            next_node = current.next\n",
      "            current.next = prev\n",
      "            prev = current\n",
      "            current = next_node\n",
      "        self.head = prev\n",
      "\n",
      "    def display(self):\n",
      "        current = self.head\n",
      "        while current:\n",
      "            print(current.value, end=\" -> \")\n",
      "            current = current.next\n",
      "        print(\"None\")\n",
      "\n",
      "# Usage\n",
      "ll = LinkedList()\n",
      "ll.append(1)\n",
      "ll.append(2)\n",
      "ll.append(3)\n",
      "ll.append(4)\n",
      "\n",
      "print(\"Original List:\")\n",
      "ll.display()\n",
      "\n",
      "ll.reverse()\n",
      "\n",
      "print(\"Reversed List:\")\n",
      "ll.display()\n",
      "```\n",
      "\n",
      "This code defines a `LinkedList` class with methods to append elements, reverse the list, and display it. The `reverse` method iterates through the list, reversing the links between nodes.\n",
      "---------- TextMessage (CODE_REVEIWER) ----------\n",
      "TERMINATE\n"
     ]
    },
    {
     "data": {
      "text/plain": [
       "TaskResult(messages=[TextMessage(source='user', models_usage=None, metadata={}, content='Give me a code on how to reverse a linked list?', type='TextMessage'), TextMessage(source='Complex_DSA_Solver', models_usage=RequestUsage(prompt_tokens=389, completion_tokens=286), metadata={}, content='Certainly! Here\\'s a Python code to reverse a singly linked list:\\n\\n```python\\nclass Node:\\n    def __init__(self, value):\\n        self.value = value\\n        self.next = None\\n\\nclass LinkedList:\\n    def __init__(self):\\n        self.head = None\\n\\n    def append(self, value):\\n        new_node = Node(value)\\n        if not self.head:\\n            self.head = new_node\\n            return\\n        last = self.head\\n        while last.next:\\n            last = last.next\\n        last.next = new_node\\n\\n    def reverse(self):\\n        prev = None\\n        current = self.head\\n        while current:\\n            next_node = current.next\\n            current.next = prev\\n            prev = current\\n            current = next_node\\n        self.head = prev\\n\\n    def display(self):\\n        current = self.head\\n        while current:\\n            print(current.value, end=\" -> \")\\n            current = current.next\\n        print(\"None\")\\n\\n# Usage\\nll = LinkedList()\\nll.append(1)\\nll.append(2)\\nll.append(3)\\nll.append(4)\\n\\nprint(\"Original List:\")\\nll.display()\\n\\nll.reverse()\\n\\nprint(\"Reversed List:\")\\nll.display()\\n```\\n\\nThis code defines a `LinkedList` class with methods to append elements, reverse the list, and display it. The `reverse` method iterates through the list, reversing the links between nodes.', type='TextMessage'), TextMessage(source='CODE_REVEIWER', models_usage=RequestUsage(prompt_tokens=717, completion_tokens=3), metadata={}, content='TERMINATE', type='TextMessage')], stop_reason=\"Text 'TERMINATE' mentioned\")"
      ]
     },
     "execution_count": 19,
     "metadata": {},
     "output_type": "execute_result"
    }
   ],
   "source": [
    "await Console(team.run_stream(task=\"Give me a code on how to reverse a linked list?\"))  # Stream the messages to the console.\n"
   ]
  },
  {
   "cell_type": "code",
   "execution_count": 14,
   "id": "f90e6939",
   "metadata": {},
   "outputs": [
    {
     "name": "stdout",
     "output_type": "stream",
     "text": [
      "source='User' models_usage=None metadata={} content='Write a simple Hello world code ?' type='TextMessage' \n",
      "\n",
      " \n",
      "\n",
      "source='Complex_DSA_Solver' models_usage=RequestUsage(prompt_tokens=37, completion_tokens=25) metadata={} content='Certainly! Here\\'s a simple Python program to print \"Hello, World!\":\\n\\n```python\\nprint(\"Hello, World!\")\\n```' type='TextMessage' \n",
      "\n",
      " \n",
      "\n",
      "source='CODE_REVEIWER' models_usage=RequestUsage(prompt_tokens=91, completion_tokens=3) metadata={} content='TERMINATE' type='TextMessage' \n",
      "\n",
      " \n",
      "\n",
      "source='CODE_EDITOR' models_usage=RequestUsage(prompt_tokens=100, completion_tokens=3) metadata={} content='TERMINATE' type='TextMessage' \n",
      "\n",
      " \n",
      "\n",
      "source='Complex_DSA_Solver' models_usage=RequestUsage(prompt_tokens=89, completion_tokens=9) metadata={} content='TERMINATE command received. Ending interaction.' type='TextMessage' \n",
      "\n",
      " \n",
      "\n",
      "source='CODE_REVEIWER' models_usage=RequestUsage(prompt_tokens=127, completion_tokens=3) metadata={} content='TERMINATE' type='TextMessage' \n",
      "\n",
      " \n",
      "\n",
      "source='CODE_EDITOR' models_usage=RequestUsage(prompt_tokens=139, completion_tokens=3) metadata={} content='TERMINATE' type='TextMessage' \n",
      "\n",
      " \n",
      "\n",
      "source='Complex_DSA_Solver' models_usage=RequestUsage(prompt_tokens=125, completion_tokens=24) metadata={} content=\"It seems you've issued a TERMINATE command. If you have any questions or need further assistance, feel free to ask!\" type='TextMessage' \n",
      "\n",
      " \n",
      "\n",
      "source='CODE_REVEIWER' models_usage=RequestUsage(prompt_tokens=178, completion_tokens=3) metadata={} content='TERMINATE' type='TextMessage' \n",
      "\n",
      " \n",
      "\n",
      "source='CODE_EDITOR' models_usage=RequestUsage(prompt_tokens=193, completion_tokens=3) metadata={} content='TERMINATE' type='TextMessage' \n",
      "\n",
      " \n",
      "\n",
      "source='Complex_DSA_Solver' models_usage=RequestUsage(prompt_tokens=176, completion_tokens=16) metadata={} content='Acknowledged. If you need assistance later, feel free to return. Goodbye!' type='TextMessage' \n",
      "\n",
      " \n",
      "\n",
      "source='CODE_REVEIWER' models_usage=RequestUsage(prompt_tokens=221, completion_tokens=3) metadata={} content='TERMINATE' type='TextMessage' \n",
      "\n",
      " \n",
      "\n",
      "source='CODE_EDITOR' models_usage=RequestUsage(prompt_tokens=239, completion_tokens=3) metadata={} content='TERMINATE' type='TextMessage' \n",
      "\n",
      " \n",
      "\n",
      "source='Complex_DSA_Solver' models_usage=RequestUsage(prompt_tokens=219, completion_tokens=17) metadata={} content='If you have any more questions in the future, feel free to ask. Goodbye!' type='TextMessage' \n",
      "\n",
      " \n",
      "\n",
      "source='CODE_REVEIWER' models_usage=RequestUsage(prompt_tokens=265, completion_tokens=3) metadata={} content='TERMINATE' type='TextMessage' \n",
      "\n",
      " \n",
      "\n",
      "source='CODE_EDITOR' models_usage=RequestUsage(prompt_tokens=286, completion_tokens=3) metadata={} content='TERMINATE' type='TextMessage' \n",
      "\n",
      " \n",
      "\n"
     ]
    }
   ],
   "source": [
    "await team.reset()\n",
    "\n",
    "async def test_team():\n",
    "    task = TextMessage(content='Write a simple Hello world code ?',source='User')\n",
    "    \n",
    "    result = await team.run(task=task)\n",
    "\n",
    "    for each_agent_message in result.messages:\n",
    "        print(f'{((each_agent_message))} ' )\n",
    "        print('\\n \\n')\n",
    "\n",
    "\n",
    "await test_team()"
   ]
  },
  {
   "cell_type": "code",
   "execution_count": null,
   "id": "310a2cac",
   "metadata": {},
   "outputs": [],
   "source": []
  },
  {
   "cell_type": "markdown",
   "id": "fc912e12",
   "metadata": {},
   "source": [
    "# Managing State of Team and Agent"
   ]
  },
  {
   "cell_type": "code",
   "execution_count": 20,
   "id": "1f88386a",
   "metadata": {},
   "outputs": [],
   "source": [
    "agent_state = await dsa_solver.save_state()"
   ]
  },
  {
   "cell_type": "code",
   "execution_count": 21,
   "id": "9fa09d4c",
   "metadata": {},
   "outputs": [
    {
     "data": {
      "text/plain": [
       "{'type': 'AssistantAgentState',\n",
       " 'version': '1.0.0',\n",
       " 'llm_context': {'messages': [{'content': 'Write a simple Hello world code.',\n",
       "    'source': 'user',\n",
       "    'type': 'UserMessage'},\n",
       "   {'content': 'Certainly! Here\\'s a simple \"Hello, World!\" program in Python:\\n\\n```python\\nprint(\"Hello, World!\")\\n```\\n\\nThis code uses the `print()` function to display the text \"Hello, World!\" to the console.',\n",
       "    'thought': None,\n",
       "    'source': 'Complex_DSA_Solver',\n",
       "    'type': 'AssistantMessage'},\n",
       "   {'content': 'TERMINATE', 'source': 'CODE_REVEIWER', 'type': 'UserMessage'},\n",
       "   {'content': 'TERMINATE', 'source': 'CODE_EDITOR', 'type': 'UserMessage'},\n",
       "   {'content': 'TERMINATE',\n",
       "    'thought': None,\n",
       "    'source': 'Complex_DSA_Solver',\n",
       "    'type': 'AssistantMessage'},\n",
       "   {'content': 'TERMINATE', 'source': 'CODE_REVEIWER', 'type': 'UserMessage'},\n",
       "   {'content': 'TERMINATE', 'source': 'CODE_EDITOR', 'type': 'UserMessage'},\n",
       "   {'content': 'TERMINATE',\n",
       "    'thought': None,\n",
       "    'source': 'Complex_DSA_Solver',\n",
       "    'type': 'AssistantMessage'},\n",
       "   {'content': 'TERMINATE', 'source': 'CODE_REVEIWER', 'type': 'UserMessage'},\n",
       "   {'content': 'TERMINATE', 'source': 'CODE_EDITOR', 'type': 'UserMessage'},\n",
       "   {'content': 'TERMINATE',\n",
       "    'thought': None,\n",
       "    'source': 'Complex_DSA_Solver',\n",
       "    'type': 'AssistantMessage'},\n",
       "   {'content': 'TERMINATE', 'source': 'CODE_REVEIWER', 'type': 'UserMessage'},\n",
       "   {'content': 'TERMINATE', 'source': 'CODE_EDITOR', 'type': 'UserMessage'},\n",
       "   {'content': 'TERMINATE',\n",
       "    'thought': None,\n",
       "    'source': 'Complex_DSA_Solver',\n",
       "    'type': 'AssistantMessage'},\n",
       "   {'content': 'TERMINATE', 'source': 'CODE_REVEIWER', 'type': 'UserMessage'},\n",
       "   {'content': 'TERMINATE', 'source': 'CODE_EDITOR', 'type': 'UserMessage'},\n",
       "   {'content': 'TERMINATE',\n",
       "    'thought': None,\n",
       "    'source': 'Complex_DSA_Solver',\n",
       "    'type': 'AssistantMessage'},\n",
       "   {'content': 'Write a simple Hello world code.',\n",
       "    'source': 'user',\n",
       "    'type': 'UserMessage'},\n",
       "   {'content': 'Please specify the programming language.',\n",
       "    'source': 'CODE_REVEIWER',\n",
       "    'type': 'UserMessage'},\n",
       "   {'content': 'Please specify the programming language.',\n",
       "    'source': 'CODE_EDITOR',\n",
       "    'type': 'UserMessage'},\n",
       "   {'content': 'Certainly! Here\\'s a simple \"Hello, World!\" program in Python:\\n\\n```python\\nprint(\"Hello, World!\")\\n```\\n\\nThis code uses the `print()` function to display the text \"Hello, World!\" to the console. If you need it in a different programming language, please let me know!',\n",
       "    'thought': None,\n",
       "    'source': 'Complex_DSA_Solver',\n",
       "    'type': 'AssistantMessage'},\n",
       "   {'content': 'TERMINATE', 'source': 'CODE_REVEIWER', 'type': 'UserMessage'},\n",
       "   {'content': 'TERMINATE', 'source': 'CODE_EDITOR', 'type': 'UserMessage'},\n",
       "   {'content': 'TERMINATE',\n",
       "    'thought': None,\n",
       "    'source': 'Complex_DSA_Solver',\n",
       "    'type': 'AssistantMessage'},\n",
       "   {'content': 'Give me a code on how to reverse a linked list?',\n",
       "    'source': 'user',\n",
       "    'type': 'UserMessage'},\n",
       "   {'content': 'Certainly! Here\\'s a Python code to reverse a singly linked list:\\n\\n```python\\nclass Node:\\n    def __init__(self, value):\\n        self.value = value\\n        self.next = None\\n\\nclass LinkedList:\\n    def __init__(self):\\n        self.head = None\\n\\n    def append(self, value):\\n        new_node = Node(value)\\n        if not self.head:\\n            self.head = new_node\\n            return\\n        last = self.head\\n        while last.next:\\n            last = last.next\\n        last.next = new_node\\n\\n    def reverse(self):\\n        prev = None\\n        current = self.head\\n        while current:\\n            next_node = current.next\\n            current.next = prev\\n            prev = current\\n            current = next_node\\n        self.head = prev\\n\\n    def display(self):\\n        current = self.head\\n        while current:\\n            print(current.value, end=\" -> \")\\n            current = current.next\\n        print(\"None\")\\n\\n# Usage\\nll = LinkedList()\\nll.append(1)\\nll.append(2)\\nll.append(3)\\nll.append(4)\\n\\nprint(\"Original List:\")\\nll.display()\\n\\nll.reverse()\\n\\nprint(\"Reversed List:\")\\nll.display()\\n```\\n\\nThis code defines a `LinkedList` class with methods to append elements, reverse the list, and display it. The `reverse` method iterates through the list, reversing the links between nodes.',\n",
       "    'thought': None,\n",
       "    'source': 'Complex_DSA_Solver',\n",
       "    'type': 'AssistantMessage'}]}}"
      ]
     },
     "execution_count": 21,
     "metadata": {},
     "output_type": "execute_result"
    }
   ],
   "source": [
    "agent_state"
   ]
  },
  {
   "cell_type": "code",
   "execution_count": 22,
   "id": "d2249fb4",
   "metadata": {},
   "outputs": [
    {
     "data": {
      "text/plain": [
       "<coroutine object AssistantAgent.load_state at 0x113d66260>"
      ]
     },
     "execution_count": 22,
     "metadata": {},
     "output_type": "execute_result"
    }
   ],
   "source": [
    "new_dsa_solver =  AssistantAgent(name='JavaDSASolver',model_client=model_client)\n",
    "new_dsa_solver.load_state(agent_state)"
   ]
  },
  {
   "cell_type": "code",
   "execution_count": 25,
   "id": "519d8bec",
   "metadata": {},
   "outputs": [],
   "source": [
    "team_state = await team.save_state()\n"
   ]
  },
  {
   "cell_type": "code",
   "execution_count": null,
   "id": "5b4c7208",
   "metadata": {},
   "outputs": [],
   "source": []
  }
 ],
 "metadata": {
  "kernelspec": {
   "display_name": "autogen-lc",
   "language": "python",
   "name": "python3"
  },
  "language_info": {
   "codemirror_mode": {
    "name": "ipython",
    "version": 3
   },
   "file_extension": ".py",
   "mimetype": "text/x-python",
   "name": "python",
   "nbconvert_exporter": "python",
   "pygments_lexer": "ipython3",
   "version": "3.12.9"
  }
 },
 "nbformat": 4,
 "nbformat_minor": 5
}
