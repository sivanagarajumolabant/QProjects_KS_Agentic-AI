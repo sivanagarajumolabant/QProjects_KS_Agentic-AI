{
 "cells": [
  {
   "cell_type": "markdown",
   "id": "5441593d",
   "metadata": {},
   "source": [
    "# Human in the loop"
   ]
  },
  {
   "cell_type": "markdown",
   "id": "0f47fc2f",
   "metadata": {},
   "source": [
    "input()"
   ]
  },
  {
   "cell_type": "code",
   "execution_count": null,
   "id": "94e42537",
   "metadata": {},
   "outputs": [],
   "source": [
    "input()"
   ]
  },
  {
   "cell_type": "code",
   "execution_count": 2,
   "id": "eb781562",
   "metadata": {},
   "outputs": [
    {
     "name": "stdout",
     "output_type": "stream",
     "text": [
      "{\"provider\":\"autogen_ext.models.openai.OpenAIChatCompletionClient\",\"component_type\":\"model\",\"version\":1,\"component_version\":1,\"description\":\"Chat completion client for OpenAI hosted models.\",\"label\":\"OpenAIChatCompletionClient\",\"config\":{\"model\":\"openai/gpt-4o-2024-11-20\",\"model_info\":{\"vision\":true,\"function_calling\":true,\"json_output\":true,\"family\":\"gpt-4o\",\"structured_output\":false},\"base_url\":\"https://openrouter.ai/api/v1\"}}\n"
     ]
    }
   ],
   "source": [
    "from autogen_ext.models.openai import OpenAIChatCompletionClient\n",
    "from autogen_core.models import ModelInfo\n",
    "import os\n",
    "\n",
    "model_client = OpenAIChatCompletionClient(\n",
    "    model=\"openai/gpt-4o-2024-11-20\",\n",
    "    base_url=\"https://openrouter.ai/api/v1\",\n",
    "    api_key=os.getenv(\"OPENROUTER_API_KEY\"),\n",
    "    model_info=ModelInfo(\n",
    "        family=\"gpt-4o\",\n",
    "        vision=True,\n",
    "        function_calling=True,\n",
    "        json_output=True,\n",
    "        structured_output=False  # Add this line to fix the error\n",
    "    )\n",
    ")\n",
    "\n",
    "print(model_client.dump_component().model_dump_json())\n"
   ]
  },
  {
   "cell_type": "code",
   "execution_count": null,
   "id": "177d2d51",
   "metadata": {},
   "outputs": [],
   "source": []
  }
 ],
 "metadata": {
  "kernelspec": {
   "display_name": "autogen-lc",
   "language": "python",
   "name": "python3"
  },
  "language_info": {
   "codemirror_mode": {
    "name": "ipython",
    "version": 3
   },
   "file_extension": ".py",
   "mimetype": "text/x-python",
   "name": "python",
   "nbconvert_exporter": "python",
   "pygments_lexer": "ipython3",
   "version": "3.12.9"
  }
 },
 "nbformat": 4,
 "nbformat_minor": 5
}
