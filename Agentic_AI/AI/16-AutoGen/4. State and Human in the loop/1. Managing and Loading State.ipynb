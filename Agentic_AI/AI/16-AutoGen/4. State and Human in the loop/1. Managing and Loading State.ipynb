{
 "cells": [
  {
   "cell_type": "markdown",
   "id": "0daf62d8",
   "metadata": {},
   "source": [
    "# Saving and Loading State"
   ]
  },
  {
   "cell_type": "code",
   "execution_count": 1,
   "id": "5f099426",
   "metadata": {},
   "outputs": [],
   "source": [
    "import asyncio\n",
    "from autogen_core import CancellationToken\n",
    "from autogen_agentchat.agents import AssistantAgent\n",
    "from autogen_ext.models.openai import OpenAIChatCompletionClient\n",
    "from autogen_agentchat.messages import TextMessage\n",
    "from autogen_agentchat.teams import RoundRobinGroupChat\n",
    "from autogen_agentchat.conditions import TextMentionTermination\n",
    "from dotenv import load_dotenv\n",
    "import os\n",
    "\n",
    "load_dotenv()\n",
    "api_key = os.getenv('OPENAI_API_KEY')\n",
    "model_client = OpenAIChatCompletionClient(model='gpt-4o', api_key=api_key)"
   ]
  },
  {
   "cell_type": "code",
   "execution_count": 3,
   "id": "81f4dbbc",
   "metadata": {},
   "outputs": [],
   "source": [
    "from typing import Text\n",
    "from autogen_agentchat.conditions import MaxMessageTermination\n",
    "\n",
    "agent_1 = AssistantAgent(\n",
    "    name='Writer_1',\n",
    "    model_client=model_client,\n",
    "    system_message=\"You are a helpful assistant. Give the output in less than 30 words\",\n",
    ")\n",
    "\n",
    "agent_2 = AssistantAgent(\n",
    "    name='Writer_2',\n",
    "    model_client=model_client,\n",
    "    system_message=\"You are a helpful assistant.Give the output in less than 30 words\",\n",
    ")\n",
    "\n",
    "terminationCondition = MaxMessageTermination(max_messages=3) \n",
    "\n",
    "agent_team = RoundRobinGroupChat(participants=[agent_1, agent_2],termination_condition=terminationCondition)"
   ]
  },
  {
   "cell_type": "code",
   "execution_count": 4,
   "id": "1e636c0d",
   "metadata": {},
   "outputs": [
    {
     "name": "stdout",
     "output_type": "stream",
     "text": [
      "---------- TextMessage (user) ----------\n",
      "Write a poem about sea in 3 lines\n",
      "---------- TextMessage (Writer_1) ----------\n",
      "Vast and deep blue tide,  \n",
      "Whispers secrets to the moon,  \n",
      "Endless dreams abide.\n",
      "---------- TextMessage (Writer_2) ----------\n",
      "Endless blue and swell,  \n",
      "Secrets dance beneath the waves,  \n",
      "Quiet tales to tell.\n"
     ]
    },
    {
     "data": {
      "text/plain": [
       "TaskResult(messages=[TextMessage(source='user', models_usage=None, metadata={}, content='Write a poem about sea in 3 lines', type='TextMessage'), TextMessage(source='Writer_1', models_usage=RequestUsage(prompt_tokens=36, completion_tokens=21), metadata={}, content='Vast and deep blue tide,  \\nWhispers secrets to the moon,  \\nEndless dreams abide.', type='TextMessage'), TextMessage(source='Writer_2', models_usage=RequestUsage(prompt_tokens=65, completion_tokens=19), metadata={}, content='Endless blue and swell,  \\nSecrets dance beneath the waves,  \\nQuiet tales to tell.', type='TextMessage')], stop_reason='Maximum number of messages 3 reached, current message count: 3')"
      ]
     },
     "execution_count": 4,
     "metadata": {},
     "output_type": "execute_result"
    }
   ],
   "source": [
    "from autogen_agentchat.ui import Console\n",
    "stream = agent_team.run_stream(task = 'Write a poem about sea in 3 lines')\n",
    "\n",
    "await Console(stream)"
   ]
  },
  {
   "cell_type": "code",
   "execution_count": 5,
   "id": "b7b65d80",
   "metadata": {},
   "outputs": [],
   "source": [
    "team_state = await agent_team.save_state()"
   ]
  },
  {
   "cell_type": "code",
   "execution_count": 9,
   "id": "e6268987",
   "metadata": {},
   "outputs": [],
   "source": [
    "await agent_team.reset()"
   ]
  },
  {
   "cell_type": "code",
   "execution_count": 10,
   "id": "cc9a56fb",
   "metadata": {},
   "outputs": [
    {
     "name": "stdout",
     "output_type": "stream",
     "text": [
      "---------- TextMessage (user) ----------\n",
      "What was the last line of the poem you wrote \n",
      "---------- TextMessage (Writer_1) ----------\n",
      "I'm sorry, I can't retrieve specific or past outputs like a poem I might have written. Can I help you with anything else?\n",
      "---------- TextMessage (Writer_2) ----------\n",
      "I don't have memory of specific poems I wrote. How can I assist you further?\n"
     ]
    },
    {
     "data": {
      "text/plain": [
       "TaskResult(messages=[TextMessage(source='user', models_usage=None, metadata={}, content='What was the last line of the poem you wrote ', type='TextMessage'), TextMessage(source='Writer_1', models_usage=RequestUsage(prompt_tokens=38, completion_tokens=26), metadata={}, content=\"I'm sorry, I can't retrieve specific or past outputs like a poem I might have written. Can I help you with anything else?\", type='TextMessage'), TextMessage(source='Writer_2', models_usage=RequestUsage(prompt_tokens=72, completion_tokens=17), metadata={}, content=\"I don't have memory of specific poems I wrote. How can I assist you further?\", type='TextMessage')], stop_reason='Maximum number of messages 3 reached, current message count: 3')"
      ]
     },
     "execution_count": 10,
     "metadata": {},
     "output_type": "execute_result"
    }
   ],
   "source": [
    "stream = agent_team.run_stream(task = 'What was the last line of the poem you wrote ')\n",
    "\n",
    "await Console(stream)"
   ]
  },
  {
   "cell_type": "markdown",
   "id": "88334f52",
   "metadata": {},
   "source": []
  },
  {
   "cell_type": "code",
   "execution_count": 11,
   "id": "5e288131",
   "metadata": {},
   "outputs": [
    {
     "name": "stdout",
     "output_type": "stream",
     "text": [
      "---------- TextMessage (user) ----------\n",
      "What was the last line of the poem you wrote \n",
      "---------- TextMessage (Writer_1) ----------\n",
      "Endless dreams abide.\n",
      "---------- TextMessage (Writer_2) ----------\n",
      "Endless dreams abide.\n"
     ]
    },
    {
     "data": {
      "text/plain": [
       "TaskResult(messages=[TextMessage(source='user', models_usage=None, metadata={}, content='What was the last line of the poem you wrote ', type='TextMessage'), TextMessage(source='Writer_1', models_usage=RequestUsage(prompt_tokens=104, completion_tokens=5), metadata={}, content='Endless dreams abide.', type='TextMessage'), TextMessage(source='Writer_2', models_usage=RequestUsage(prompt_tokens=117, completion_tokens=5), metadata={}, content='Endless dreams abide.', type='TextMessage')], stop_reason='Maximum number of messages 3 reached, current message count: 3')"
      ]
     },
     "execution_count": 11,
     "metadata": {},
     "output_type": "execute_result"
    }
   ],
   "source": [
    "await agent_team.load_state(team_state)\n",
    "stream = agent_team.run_stream(task = 'What was the last line of the poem you wrote ')\n",
    "\n",
    "await Console(stream)"
   ]
  },
  {
   "cell_type": "code",
   "execution_count": null,
   "id": "e99064dd",
   "metadata": {
    "vscode": {
     "languageId": "markdown"
    }
   },
   "outputs": [],
   "source": [
    "# TODO : write and load from a json file\n",
    "\n",
    "import json"
   ]
  }
 ],
 "metadata": {
  "kernelspec": {
   "display_name": "autogen-lc",
   "language": "python",
   "name": "python3"
  },
  "language_info": {
   "codemirror_mode": {
    "name": "ipython",
    "version": 3
   },
   "file_extension": ".py",
   "mimetype": "text/x-python",
   "name": "python",
   "nbconvert_exporter": "python",
   "pygments_lexer": "ipython3",
   "version": "3.12.9"
  }
 },
 "nbformat": 4,
 "nbformat_minor": 5
}
