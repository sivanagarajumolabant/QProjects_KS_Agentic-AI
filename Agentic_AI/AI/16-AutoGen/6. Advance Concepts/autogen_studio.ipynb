{
 "cells": [
  {
   "cell_type": "markdown",
   "id": "a377fea6",
   "metadata": {},
   "source": [
    "# Autogen Studio"
   ]
  },
  {
   "cell_type": "markdown",
   "id": "0e39aa87",
   "metadata": {},
   "source": []
  }
 ],
 "metadata": {
  "language_info": {
   "name": "python"
  }
 },
 "nbformat": 4,
 "nbformat_minor": 5
}
