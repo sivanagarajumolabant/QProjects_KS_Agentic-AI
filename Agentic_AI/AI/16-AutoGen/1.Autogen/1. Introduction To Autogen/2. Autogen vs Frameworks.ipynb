{
 "cells": [
  {
   "cell_type": "markdown",
   "id": "36368f06",
   "metadata": {},
   "source": [
    "# Comparing the Autogen Framework with Other AI Framework"
   ]
  },
  {
   "cell_type": "markdown",
   "id": "248a6338",
   "metadata": {},
   "source": [
    "Langchain, CrewAI, LlamaIndex"
   ]
  },
  {
   "cell_type": "markdown",
   "id": "f5162813",
   "metadata": {},
   "source": [
    "### The best way to not learn anything is to learn everything"
   ]
  },
  {
   "cell_type": "markdown",
   "id": "1a34b500",
   "metadata": {},
   "source": [
    "Autogen is a multi-agent AI system with an asynchronous, event driven architecture.\n",
    "Scalable and allows dynamic agent interactions\n"
   ]
  },
  {
   "cell_type": "markdown",
   "id": "fc3594fa",
   "metadata": {},
   "source": [
    "# Autogen vs Langchain"
   ]
  },
  {
   "cell_type": "markdown",
   "id": "54d4e6fd",
   "metadata": {},
   "source": [
    "Architecture - Langchain has a chain0based sequetial execution model whereas autogen has event driven async architecture.\n",
    "\n",
    "Multi Agent Capabilities - Autogen excels in autonomous multi-agent collboration. Langhain focuses on a single-agent workflow with structured steps.\n",
    "\n",
    "Observability - Autogen has better event tracking and Langchain has a basic tracing.\n",
    "\n",
    "Scalable - Autogen can easily scaling on complex agent networks, lanchain synchronous design it struggle with large scale systems.\n",
    "\n",
    "Use Case - Autogen good for Collborative AI ( research team) and langchain QnA or data processing.\n"
   ]
  },
  {
   "cell_type": "markdown",
   "id": "9d15c950",
   "metadata": {},
   "source": [
    "# Autogen vs CrewAI"
   ]
  },
  {
   "cell_type": "markdown",
   "id": "c276c5bb",
   "metadata": {},
   "source": [
    "- Flexibility - Autogen hs low level API and high level agentChat API, crewAI template based model.\n",
    "- Customization - Autogen provides with deep customization while CrewAI is good for quick setups with limited capability.\n",
    "- Popularity - Autigen has a longer history and larger community , CrewAI has a good user base.\n",
    "- Learning Curve - Autogen has a steep learnin curve whereas crewAI is simpler for multi agent. \n",
    "- Use Case - Autogen shines at intricate, dynamic model whereas crewAI is good for straightforward team tasks."
   ]
  },
  {
   "cell_type": "markdown",
   "id": "4bc200ef",
   "metadata": {},
   "source": []
  },
  {
   "cell_type": "markdown",
   "id": "717cc051",
   "metadata": {},
   "source": [
    "# Autogen vs Langgraph"
   ]
  },
  {
   "cell_type": "markdown",
   "id": "23e21858",
   "metadata": {},
   "source": [
    "- Architecture -  Autogen has a event driven multi agent arch vs  Langgraphh is Graph -based, stateful architecture which is built on top of Langchain\n",
    "- Primary Focus - Autogen it is multi agent collaboaration, chaining and cordination between sequntial/conditional steps in Workflow.\n",
    "- Model - LG has nodes connected via edges \n",
    "Scalability - AG is good for large scale, dynamic agent interactions, LG good for linear workflows."
   ]
  },
  {
   "cell_type": "markdown",
   "id": "5a0d0e10",
   "metadata": {},
   "source": []
  }
 ],
 "metadata": {
  "language_info": {
   "name": "python"
  }
 },
 "nbformat": 4,
 "nbformat_minor": 5
}
