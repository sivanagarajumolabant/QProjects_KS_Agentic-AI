{
 "cells": [
  {
   "cell_type": "markdown",
   "id": "f33b55a2",
   "metadata": {},
   "source": [
    "# AgentChat - First Assistant Agent"
   ]
  },
  {
   "cell_type": "code",
   "execution_count": 1,
   "id": "26f7d894",
   "metadata": {},
   "outputs": [],
   "source": [
    "from autogen_agentchat.agents import AssistantAgent\n",
    "from autogen_ext.models.openai import OpenAIChatCompletionClient\n",
    "from dotenv import load_dotenv\n",
    "import os\n",
    "\n",
    "load_dotenv()\n",
    "api_key = os.getenv('OPENAI_API_KEY')"
   ]
  },
  {
   "cell_type": "code",
   "execution_count": 2,
   "id": "2ae997d0",
   "metadata": {},
   "outputs": [],
   "source": [
    "model_client = OpenAIChatCompletionClient(model=\"gpt-4o\", api_key=api_key)"
   ]
  },
  {
   "cell_type": "code",
   "execution_count": 4,
   "id": "1ed00e8a",
   "metadata": {},
   "outputs": [],
   "source": [
    "assistant = AssistantAgent(name='assistant',model_client=model_client)\n"
   ]
  },
  {
   "cell_type": "code",
   "execution_count": 5,
   "id": "52e23553",
   "metadata": {},
   "outputs": [
    {
     "name": "stdout",
     "output_type": "stream",
     "text": [
      "messages=[TextMessage(source='user', models_usage=None, metadata={}, content='What is the capital of France?', type='TextMessage'), TextMessage(source='assistant', models_usage=RequestUsage(prompt_tokens=43, completion_tokens=7), metadata={}, content='The capital of France is Paris.', type='TextMessage')] stop_reason=None\n"
     ]
    }
   ],
   "source": [
    "result = await assistant.run(task=\"What is the capital of France?\")\n",
    "print(result)"
   ]
  },
  {
   "cell_type": "code",
   "execution_count": null,
   "id": "ec3b4400",
   "metadata": {},
   "outputs": [],
   "source": [
    "assistant_2 = AssistantAgent(name='assistant',\n",
    "                           model_client=model_client,\n",
    "                           description=\"Give output in JSON\",\n",
    "                           system_message=\"You are a helpful assistant that provides accurate information about history.Give output in JSON\"\n",
    "                           )\n"
   ]
  },
  {
   "cell_type": "code",
   "execution_count": 12,
   "id": "923a9d9a",
   "metadata": {},
   "outputs": [
    {
     "name": "stdout",
     "output_type": "stream",
     "text": [
      "messages=[TextMessage(source='user', models_usage=None, metadata={}, content='What is the capital of France?', type='TextMessage'), TextMessage(source='assistant', models_usage=RequestUsage(prompt_tokens=35, completion_tokens=20), metadata={}, content='```json\\n{\\n  \"country\": \"France\",\\n  \"capital\": \"Paris\"\\n}\\n```', type='TextMessage')] stop_reason=None\n"
     ]
    }
   ],
   "source": [
    "result = await assistant_2.run(task=\"What is the capital of France?\")\n",
    "print(result)"
   ]
  },
  {
   "cell_type": "code",
   "execution_count": 13,
   "id": "c2bb4104",
   "metadata": {},
   "outputs": [
    {
     "data": {
      "text/plain": [
       "'```json\\n{\\n  \"country\": \"France\",\\n  \"capital\": \"Paris\"\\n}\\n```'"
      ]
     },
     "execution_count": 13,
     "metadata": {},
     "output_type": "execute_result"
    }
   ],
   "source": [
    "result.messages[-1].content"
   ]
  },
  {
   "cell_type": "code",
   "execution_count": 14,
   "id": "43886233",
   "metadata": {},
   "outputs": [
    {
     "data": {
      "text/plain": [
       "'```json\\n{\\n  \"previous_question\": \"What is the capital of France?\"\\n}\\n```'"
      ]
     },
     "execution_count": 14,
     "metadata": {},
     "output_type": "execute_result"
    }
   ],
   "source": [
    "result = await assistant_2.run(task=\"What I asked you in the last question?\")\n",
    "result.messages[-1].content"
   ]
  },
  {
   "cell_type": "code",
   "execution_count": null,
   "id": "b576ecc0",
   "metadata": {},
   "outputs": [],
   "source": [
    "# Prompt Engineering"
   ]
  },
  {
   "cell_type": "code",
   "execution_count": 24,
   "id": "0dbec4f7",
   "metadata": {},
   "outputs": [],
   "source": [
    "from io import BytesIO\n",
    "\n",
    "import requests\n",
    "from autogen_agentchat.messages import MultiModalMessage\n",
    "from autogen_core import Image as AGImage\n",
    "from PIL import Image\n",
    "\n",
    "pil_image = Image.open(BytesIO(requests.get(\"https://picsum.photos/id/9/200/400\").content))\n",
    "img = AGImage(pil_image)\n",
    "multi_modal_message = MultiModalMessage(content=[\"Can you describe the content of this image?\", img], source=\"User\")\n"
   ]
  },
  {
   "cell_type": "code",
   "execution_count": 23,
   "id": "c9d2b932",
   "metadata": {},
   "outputs": [
    {
     "data": {
      "text/plain": [
       "'```json\\n{\\n  \"image_content\": \"A laptop on a wooden surface.\"\\n}\\n```'"
      ]
     },
     "execution_count": 23,
     "metadata": {},
     "output_type": "execute_result"
    }
   ],
   "source": [
    "multi_model_message = MultiModalMessage(\n",
    "    content = ['What is there in the image?',img],\n",
    "    source=\"User\"\n",
    ")\n",
    "\n",
    "result = await assistant_2.run(task=multi_model_message)\n",
    "result.messages[-1].content"
   ]
  },
  {
   "cell_type": "code",
   "execution_count": 25,
   "id": "f643eb1e",
   "metadata": {},
   "outputs": [
    {
     "data": {
      "text/plain": [
       "'The weather in Delhi is sunny with a temperature of 25°C.'"
      ]
     },
     "execution_count": 25,
     "metadata": {},
     "output_type": "execute_result"
    }
   ],
   "source": [
    "def get_weather(city:str)->str:\n",
    "    # Simulate a weather API call\n",
    "    return f\"The weather in {city} is sunny with a temperature of 25°C.\"\n",
    "\n",
    "\n",
    "weather_agent = AssistantAgent(\n",
    "    name='weather_agent',\n",
    "    model_client=model_client,\n",
    "    description=\"You are a weather assistant that provides accurate weather information.\",\n",
    "    system_message=\"You are a helpful assistant that provides accurate weather information by using the get_weather.\",\n",
    "    tools=[get_weather]\n",
    ")\n",
    "\n",
    "result = await weather_agent.run(task=\"What is the weather in Delhi?\")\n",
    "result.messages[-1].content\n"
   ]
  },
  {
   "cell_type": "markdown",
   "id": "01072451",
   "metadata": {},
   "source": [
    "# Strucutred Output"
   ]
  },
  {
   "cell_type": "code",
   "execution_count": null,
   "id": "00c1f2f4",
   "metadata": {},
   "outputs": [
    {
     "name": "stdout",
     "output_type": "stream",
     "text": [
      "{\"fact\":\"The capital of India is New Delhi.\",\"source\":\"General knowledge and encyclopedic sources.\"}\n"
     ]
    }
   ],
   "source": [
    "from pydantic import BaseModel\n",
    "\n",
    "class Information(BaseModel):\n",
    "    fact:str\n",
    "    source:str\n",
    "\n",
    "\n",
    "model_client_structured = OpenAIChatCompletionClient(model=\"gpt-4o\", api_key=api_key)\n",
    "\n",
    "structure_output_agent = AssistantAgent(\n",
    "    name='assistant',\n",
    "    model_client=model_client_structured,\n",
    "    description=\"You are a helpful assistant that provides accurate information about history in Structure Response.\",\n",
    "    output_content_type=Information,\n",
    "    system_message=\"You are a helpful assistant that provides accurate information about history.\",\n",
    ")\n",
    "\n",
    "result = await structure_output_agent.run(task=\"What is the capital of India?\")\n",
    "print(result.messages[-1].content)"
   ]
  },
  {
   "cell_type": "code",
   "execution_count": null,
   "id": "0922cb76",
   "metadata": {},
   "outputs": [
    {
     "data": {
      "text/plain": [
       "TaskResult(messages=[TextMessage(source='user', models_usage=None, metadata={}, content='What is the capital of India?', type='TextMessage'), TextMessage(source='assistant', models_usage=RequestUsage(prompt_tokens=74, completion_tokens=21), metadata={}, content='{\"fact\":\"The capital of India is New Delhi.\",\"source\":\"General knowledge and encyclopedic sources.\"}', type='TextMessage')], stop_reason=None)"
      ]
     },
     "execution_count": 28,
     "metadata": {},
     "output_type": "execute_result"
    }
   ],
   "source": [
    "result.message"
   ]
  },
  {
   "cell_type": "code",
   "execution_count": 35,
   "id": "6075090c",
   "metadata": {},
   "outputs": [
    {
     "data": {
      "text/plain": [
       "<bound method UnboundedChatCompletionContext.get_messages of <autogen_core.model_context._unbounded_chat_completion_context.UnboundedChatCompletionContext object at 0x116fee510>>"
      ]
     },
     "execution_count": 35,
     "metadata": {},
     "output_type": "execute_result"
    }
   ],
   "source": [
    "structure_output_agent.model_context.get_messages"
   ]
  },
  {
   "cell_type": "code",
   "execution_count": null,
   "id": "351372bd",
   "metadata": {},
   "outputs": [],
   "source": []
  }
 ],
 "metadata": {
  "kernelspec": {
   "display_name": "autogen-lc",
   "language": "python",
   "name": "python3"
  },
  "language_info": {
   "codemirror_mode": {
    "name": "ipython",
    "version": 3
   },
   "file_extension": ".py",
   "mimetype": "text/x-python",
   "name": "python",
   "nbconvert_exporter": "python",
   "pygments_lexer": "ipython3",
   "version": "3.12.9"
  }
 },
 "nbformat": 4,
 "nbformat_minor": 5
}
